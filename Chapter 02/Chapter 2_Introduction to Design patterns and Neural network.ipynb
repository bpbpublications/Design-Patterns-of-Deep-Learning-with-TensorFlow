{
 "cells": [
  {
   "cell_type": "markdown",
   "id": "cf7f4d99",
   "metadata": {},
   "source": [
    "#### Chapter 2 : Introduction to Design Patterns and Neural Networks"
   ]
  },
  {
   "cell_type": "code",
   "execution_count": null,
   "id": "03dbf5d0",
   "metadata": {},
   "outputs": [],
   "source": [
    "import tensorflow as tf\n",
    "import numpy as np\n",
    "import matplotlib.pyplot as plt"
   ]
  },
  {
   "cell_type": "code",
   "execution_count": null,
   "id": "3e45a43d",
   "metadata": {},
   "outputs": [],
   "source": [
    "# Loading the dataset\n",
    "fashionData = tf.keras.datasets.fashion_mnist\n",
    "# Get the train and test sets along with the respective labels\n",
    "(train_img, train_labels), (test_img, test_labels) = fashionData.load_data()"
   ]
  },
  {
   "cell_type": "code",
   "execution_count": null,
   "id": "62e10507",
   "metadata": {},
   "outputs": [],
   "source": [
    "print('Shape of training data',train_img.shape)\n",
    "print('Shape of test data',test_img.shape)\n"
   ]
  },
  {
   "cell_type": "code",
   "execution_count": null,
   "id": "9644743a",
   "metadata": {},
   "outputs": [],
   "source": [
    "import random"
   ]
  },
  {
   "cell_type": "code",
   "execution_count": null,
   "id": "2f184ee3",
   "metadata": {},
   "outputs": [],
   "source": [
    "# Take a random index\n",
    "index = random.randint(0,60000)\n",
    "print(\"Class of the product\",train_labels[index])\n",
    "# Extract the imge from the training set\n",
    "img = train_img[index,:,:]\n",
    "print(\"Shape of the image\",img.shape)\n"
   ]
  },
  {
   "cell_type": "code",
   "execution_count": null,
   "id": "83786806",
   "metadata": {},
   "outputs": [],
   "source": [
    "# Plotting the image\n",
    "plt.imshow(img)\n",
    "plt.colorbar()\n",
    "# Showing the image\n",
    "plt.show()"
   ]
  },
  {
   "cell_type": "code",
   "execution_count": null,
   "id": "3457eb47",
   "metadata": {},
   "outputs": [],
   "source": [
    "# Getting the pixel values of the image\n",
    "img"
   ]
  },
  {
   "cell_type": "code",
   "execution_count": null,
   "id": "005ceeab",
   "metadata": {},
   "outputs": [],
   "source": [
    "# Scale the image data\n",
    "train_img = train_img / 255.0\n",
    "test_img = test_img / 255.0"
   ]
  },
  {
   "cell_type": "markdown",
   "id": "b1ebbbb6",
   "metadata": {},
   "source": [
    "#### Classification model for Fashion MNIST"
   ]
  },
  {
   "cell_type": "code",
   "execution_count": null,
   "id": "66eb9147",
   "metadata": {},
   "outputs": [],
   "source": [
    "# Import the classes for building the model\n",
    "from tensorflow.keras import Sequential\n",
    "from tensorflow.keras.layers import Dense,ReLU,Flatten,Softmax,Dropout\n",
    "%load_ext tensorboard"
   ]
  },
  {
   "cell_type": "code",
   "execution_count": null,
   "id": "dd7020d9",
   "metadata": {},
   "outputs": [],
   "source": [
    "# Build the model using the Sequential class\n",
    "model = Sequential()\n",
    "model.add(Flatten(input_shape=(28,28)))\n",
    "model.add(Dense(128))\n",
    "model.add(ReLU())\n",
    "model.add(Dense(128))\n",
    "model.add(ReLU())\n",
    "model.add(Dense(10))\n",
    "model.add(Softmax())\n",
    "model.summary()"
   ]
  },
  {
   "cell_type": "code",
   "execution_count": null,
   "id": "22ff5940",
   "metadata": {},
   "outputs": [],
   "source": [
    "# Alternate way of model representation\n",
    "model = Sequential([\n",
    "                    Flatten(input_shape=(28,28)),\n",
    "                    Dense(128, activation = \"relu\"),\n",
    "                    Dense(128, activation = \"relu\"),\n",
    "                    Dense(10, activation = \"softmax\")\n",
    "                    ])\n",
    "model.summary()"
   ]
  },
  {
   "cell_type": "code",
   "execution_count": null,
   "id": "eeef5c06",
   "metadata": {},
   "outputs": [],
   "source": [
    "model.compile(optimizer='adam',loss='sparse_categorical_crossentropy',metrics=['accuracy'])"
   ]
  },
  {
   "cell_type": "code",
   "execution_count": null,
   "id": "a2a4576c",
   "metadata": {},
   "outputs": [],
   "source": [
    "model.fit(train_img, train_labels, epochs=10)"
   ]
  },
  {
   "cell_type": "code",
   "execution_count": null,
   "id": "4deb3b8a",
   "metadata": {},
   "outputs": [],
   "source": [
    "print(\"Evaluate\")\n",
    "result = model.evaluate(test_img,test_labels, verbose=1)\n",
    "dict(zip(model.metrics_names, result))"
   ]
  },
  {
   "cell_type": "code",
   "execution_count": null,
   "id": "67213a8f",
   "metadata": {},
   "outputs": [],
   "source": [
    "# Predictions using the model\n",
    "predictions = model.predict(test_img)\n",
    "predictions\n"
   ]
  },
  {
   "cell_type": "code",
   "execution_count": null,
   "id": "ae277eb3",
   "metadata": {},
   "outputs": [],
   "source": [
    "# Getting the most probable class using argmax\n",
    "probClass = np.argmax(predictions,axis = 1)\n",
    "probClass\n"
   ]
  },
  {
   "cell_type": "code",
   "execution_count": null,
   "id": "445801a6",
   "metadata": {},
   "outputs": [],
   "source": [
    "# Take a random index\n",
    "index = random.randint(0,10000)\n",
    "print(\"Class of the product\",test_labels[index])\n",
    "# Extract the image from the test set for prediction\n",
    "img = test_img[index:index+1,:,:]\n",
    "print(\"Shape of the image\",img.shape)"
   ]
  },
  {
   "cell_type": "code",
   "execution_count": null,
   "id": "f61ba88b",
   "metadata": {},
   "outputs": [],
   "source": [
    "# Plotting the selected image\n",
    "plt.imshow(test_img[index,:,:])\n",
    "plt.colorbar()\n",
    "# Showing the image\n",
    "plt.show()"
   ]
  },
  {
   "cell_type": "code",
   "execution_count": null,
   "id": "16525239",
   "metadata": {},
   "outputs": [],
   "source": [
    "# predicting on the image and getting the class with the largest probability\n",
    "print('Predicted class of the image :', np.argmax(model.predict(img)))"
   ]
  },
  {
   "cell_type": "markdown",
   "id": "6b8419d4",
   "metadata": {},
   "source": [
    "#### Building model with Functional API"
   ]
  },
  {
   "cell_type": "code",
   "execution_count": null,
   "id": "0673cb4c",
   "metadata": {},
   "outputs": [],
   "source": [
    "# Import the packages\n",
    "from tensorflow.keras import Model,Input\n",
    "from tensorflow.keras.layers import Dense,ReLU,Activation,Flatten,Concatenate\n"
   ]
  },
  {
   "cell_type": "code",
   "execution_count": null,
   "id": "4f6acfe1",
   "metadata": {},
   "outputs": [],
   "source": [
    "# Building the model architecture using Functional API\n",
    "inputs = Input((28,28,))                  \n",
    "x = Flatten()(inputs)                       \n",
    "x = Dense(128)(x)\n",
    "x = Activation('relu')(x)\n",
    "x = Dense(128)(x)\n",
    "x = Activation('relu')(x)\n",
    "x = Dense(10)(x)\n",
    "output = Activation('softmax')(x)\n",
    "model = Model(inputs,output)     \n",
    "model.summary()\n"
   ]
  },
  {
   "cell_type": "code",
   "execution_count": null,
   "id": "b5fef66b",
   "metadata": {},
   "outputs": [],
   "source": [
    "# A model architecture with multiple inputs and output\n",
    "# first input network\n",
    "input1 = Input((28,28))\n",
    "x1 = Flatten()(input1)\n",
    "x1 = Dense(128)(x1)\n",
    "x1 = Activation('relu')(x1)\n",
    "# second input network\n",
    "input2 = Input((28,28))\n",
    "x2 = Flatten()(input2)\n",
    "x2 = Dense(128)(x2)\n",
    "x2 = Activation('relu')(x2)\n",
    "# merge input models\n",
    "merge = concatenate([x1, x2])\n",
    "# Network 1 output\n",
    "hidden1 = Dense(64, activation='relu')(merge)\n",
    "hidden2 = Dense(64, activation='relu')(hidden1)\n",
    "output1 = Dense(10, activation='softmax')(hidden2)\n",
    "# Network 2 output\n",
    "hidden3 = Dense(64, activation='relu')(merge)\n",
    "hidden4 = Dense(64, activation='relu')(hidden3)\n",
    "output2 = Dense(10, activation='softmax')(hidden4)\n",
    "# Constructing the Model object\n",
    "model = Model(inputs=[input1, input2], outputs=[output1,output2])\n",
    "# summarize layers\n",
    "model.summary()\n"
   ]
  },
  {
   "cell_type": "code",
   "execution_count": null,
   "id": "38e841ae",
   "metadata": {},
   "outputs": [],
   "source": [
    "# Compiling the model\n",
    "model.compile(loss='sparse_categorical_crossentropy',optimizer = 'rmsprop' ,metrics=['accuracy'])\n",
    "# Fitting data to the model\n",
    "model.fit([train_img,train_img], train_labels, epochs=3)\n"
   ]
  },
  {
   "cell_type": "markdown",
   "id": "7987adae",
   "metadata": {},
   "source": [
    "#### Custom training using Gradient tape"
   ]
  },
  {
   "cell_type": "code",
   "execution_count": null,
   "id": "72ae2bce",
   "metadata": {},
   "outputs": [],
   "source": [
    "from tensorflow.keras.optimizers import Adam\n",
    "import math"
   ]
  },
  {
   "cell_type": "code",
   "execution_count": null,
   "id": "2c14ec78",
   "metadata": {},
   "outputs": [],
   "source": [
    "from tensorflow.keras.models import Sequential\n",
    "from tensorflow.keras.layers import Dense\n",
    "from tensorflow.keras.optimizers import Adam\n",
    "# Building the model\n",
    "model = Sequential()\n",
    "model.add(Flatten(input_shape=(28,28),name=\"Flatten_layer\"))\n",
    "model.add(Dense(128, activation = \"relu\",name=\"First_activation_layer\"))\n",
    "\n",
    "model.add(Dense(10, activation = \"softmax\",name=\"Softmax_activation_layer\"))\n",
    "model.summary()"
   ]
  },
  {
   "cell_type": "code",
   "execution_count": null,
   "id": "e61d3f16",
   "metadata": {},
   "outputs": [],
   "source": [
    "# Hyperparameters\n",
    "batch_size = 128 \n",
    "epochs = 10\n",
    "optimizer = Adam(learning_rate=0.001)"
   ]
  },
  {
   "cell_type": "code",
   "execution_count": null,
   "id": "c054f680",
   "metadata": {},
   "outputs": [],
   "source": [
    "#Building the step function \n",
    "def step(real_x, real_y):\n",
    "    with tf.GradientTape() as tape:\n",
    "        # Make prediction\n",
    "        pred_y = model(real_x)\n",
    "        # Calculate loss\n",
    "        model_loss = tf.keras.losses.sparse_categorical_crossentropy(real_y, pred_y)\n",
    "    # Calculate gradients\n",
    "    model_gradients = tape.gradient(model_loss, model.trainable_variables)\n",
    "    # Update model\n",
    "    optimizer.apply_gradients(zip(model_gradients, model.trainable_variables))\n",
    "    return model_loss,model_gradients"
   ]
  },
  {
   "cell_type": "code",
   "execution_count": null,
   "id": "b72a828f",
   "metadata": {},
   "outputs": [],
   "source": [
    "# Creating empty lists to store the values\n",
    "gradientsList = []\n",
    "lossList = []\n",
    "modWeights = []\n",
    "# Training loop\n",
    "bat_per_epoch = math.floor(len(train_img) / batch_size)\n",
    "# Storing the initial model weights\n",
    "modWeights.append(model.get_weights())\n",
    "for epoch in range(epochs):\n",
    "    print('=', end='')\n",
    "    for i in range(bat_per_epoch):\n",
    "        # Get the batch counter\n",
    "        n = i*batch_size\n",
    "        # Get the model loss and gradients from the step function\n",
    "        model_loss,model_gradients = step(train_img[n:n+batch_size], train_labels[n:n+batch_size])\n",
    "        # Store the loss and gradients in the list\n",
    "        lossList.append(model_loss)\n",
    "        gradientsList.append(model_gradients)\n",
    "    # Store the model weights in the list\n",
    "    modWeights.append(model.get_weights())"
   ]
  },
  {
   "cell_type": "code",
   "execution_count": null,
   "id": "45ba9421",
   "metadata": {},
   "outputs": [],
   "source": [
    "print(\"Total set of weights\",len(modWeights))\n",
    "print('Total number of parameters',len(modWeights[0]))\n"
   ]
  },
  {
   "cell_type": "code",
   "execution_count": null,
   "id": "dd89b564",
   "metadata": {},
   "outputs": [],
   "source": [
    "print(\"Set of all losses\",len(lossList))\n",
    "print('Total number of gradient sets',len(gradientsList))\n"
   ]
  },
  {
   "cell_type": "markdown",
   "id": "50b26c4a",
   "metadata": {},
   "source": [
    "#### Topology with Dropout"
   ]
  },
  {
   "cell_type": "code",
   "execution_count": null,
   "id": "7d37e357",
   "metadata": {},
   "outputs": [],
   "source": [
    "# Model topology definition\n",
    "model = Sequential()\n",
    "model.add(Flatten(input_shape=(28,28)))\n",
    "model.add(Dense(128, activation = \"relu\"))\n",
    "model.add(Dropout(0.5))\n",
    "model.add(Dense(128, activation = \"relu\"))\n",
    "model.add(Dropout(0.5))\n",
    "model.add(Dense(10, activation = \"softmax\"))\n",
    "model.summary()"
   ]
  },
  {
   "cell_type": "code",
   "execution_count": null,
   "id": "c8bd0eff",
   "metadata": {},
   "outputs": [],
   "source": []
  }
 ],
 "metadata": {
  "kernelspec": {
   "display_name": "Python 3 (ipykernel)",
   "language": "python",
   "name": "python3"
  },
  "language_info": {
   "codemirror_mode": {
    "name": "ipython",
    "version": 3
   },
   "file_extension": ".py",
   "mimetype": "text/x-python",
   "name": "python",
   "nbconvert_exporter": "python",
   "pygments_lexer": "ipython3",
   "version": "3.10.5"
  }
 },
 "nbformat": 4,
 "nbformat_minor": 5
}
