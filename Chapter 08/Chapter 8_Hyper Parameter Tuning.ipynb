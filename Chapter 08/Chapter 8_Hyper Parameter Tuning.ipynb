{
 "cells": [
  {
   "cell_type": "markdown",
   "id": "5425a1f7",
   "metadata": {},
   "source": [
    "### Chapter 8 - Hyper Parameter Tuning"
   ]
  },
  {
   "cell_type": "code",
   "execution_count": null,
   "id": "857a5dcb",
   "metadata": {},
   "outputs": [],
   "source": [
    "!pip install scikeras"
   ]
  },
  {
   "cell_type": "code",
   "execution_count": null,
   "id": "1c33657a",
   "metadata": {},
   "outputs": [],
   "source": [
    "import tensorflow as tf\n",
    "from tensorflow.keras.datasets import fashion_mnist\n",
    "from tensorflow.keras.models import Sequential\n",
    "from tensorflow.keras.layers import Dense, Dropout, Flatten, Conv2D, MaxPooling2D\n",
    "from tensorflow.keras.utils import to_categorical\n",
    "from scikeras.wrappers import KerasClassifier\n",
    "from sklearn.model_selection import GridSearchCV"
   ]
  },
  {
   "cell_type": "code",
   "execution_count": null,
   "id": "a1746ebc",
   "metadata": {},
   "outputs": [],
   "source": [
    "activation = ['relu', 'sigmoid']\n",
    "optimizer = ['adam', 'sgd']\n",
    "batch_size = [10, 20, 30]\n",
    "epochs = [10, 20]\n",
    "param_grid = dict(activation=activation, optimizer=optimizer, batch_size=batch_size, epochs=epochs)"
   ]
  },
  {
   "cell_type": "code",
   "execution_count": null,
   "id": "62b1279c",
   "metadata": {},
   "outputs": [],
   "source": [
    "def create_model(activation='relu', optimizer='adam'):\n",
    "    model = Sequential()\n",
    "    model.add(Dense(64, input_dim=5, activation=activation))\n",
    "    model.add(Dense(32, activation=activation))\n",
    "    model.add(Dense(1, activation='sigmoid'))\n",
    "    model.compile(loss='binary_crossentropy', optimizer=optimizer, metrics=['accuracy'])\n",
    "    return model"
   ]
  },
  {
   "cell_type": "code",
   "execution_count": null,
   "id": "93505a4c",
   "metadata": {},
   "outputs": [],
   "source": [
    "model = KerasClassifier(build_fn=create_model, verbose=0)"
   ]
  },
  {
   "cell_type": "code",
   "execution_count": null,
   "id": "2eb5d8fe",
   "metadata": {},
   "outputs": [],
   "source": [
    "grid = GridSearchCV(estimator=model, param_grid=param_grid, cv=2, n_jobs=-1)\n",
    "grid_result = grid.fit(X, y)"
   ]
  },
  {
   "cell_type": "code",
   "execution_count": null,
   "id": "155a6279",
   "metadata": {},
   "outputs": [],
   "source": [
    "print(\"Best: %f using %s\" % (grid_result.best_score_, grid_result.best_params_))"
   ]
  },
  {
   "cell_type": "markdown",
   "id": "aeb584ef",
   "metadata": {},
   "source": [
    "#### Randomized Search"
   ]
  },
  {
   "cell_type": "code",
   "execution_count": null,
   "id": "7eaff97a",
   "metadata": {},
   "outputs": [],
   "source": [
    "from sklearn.model_selection import RandomizedSearchCV\n",
    "\n",
    "# Use RandomizedSearchCV to perform random search for hyperparameters\n",
    "random_search = RandomizedSearchCV(estimator=model, param_distributions=param_dist, n_iter=10, cv=3)\n",
    "random_search.fit(X, y)"
   ]
  },
  {
   "cell_type": "markdown",
   "id": "2a605a2d",
   "metadata": {},
   "source": [
    "#### Data preprocessing Hyper parameters"
   ]
  },
  {
   "cell_type": "code",
   "execution_count": null,
   "id": "2949b1d1",
   "metadata": {},
   "outputs": [],
   "source": [
    "import tensorflow as tf\n",
    "from tensorflow.keras.datasets import fashion_mnist\n",
    "from tensorflow.keras.preprocessing.image import ImageDataGenerator\n",
    "from tensorflow.keras.utils import to_categorical\n",
    "from tensorflow.keras.models import Sequential\n",
    "from tensorflow.keras.layers import Conv2D, MaxPooling2D, Flatten, Dense, Dropout\n",
    "from tensorflow.keras.optimizers import Adam\n",
    "from sklearn.model_selection import RandomizedSearchCV\n",
    "import numpy as np"
   ]
  },
  {
   "cell_type": "code",
   "execution_count": null,
   "id": "17aa8011",
   "metadata": {},
   "outputs": [],
   "source": [
    "# Loading the data\n",
    "(x_train, y_train), (x_test, y_test) = fashion_mnist.load_data()\n",
    "# Convert to one hot encoding of the data\n",
    "y_train = to_categorical(y_train, 10)\n",
    "y_test = to_categorical(y_test, 10)\n",
    "# Define number of classes\n",
    "num_classes = 10"
   ]
  },
  {
   "cell_type": "code",
   "execution_count": null,
   "id": "bd6ff2ac",
   "metadata": {},
   "outputs": [],
   "source": [
    "# Define the model architecture\n",
    "def create_model(batch_size=32, data_augmentation=True, data_normalization=True):\n",
    "    model = Sequential()\n",
    "    if data_normalization:\n",
    "        model.add(tf.keras.layers.experimental.preprocessing.Rescaling(1./255))\n",
    "    if data_augmentation:\n",
    "        model.add(ImageDataGenerator(rotation_range=20, width_shift_range=0.1, height_shift_range=0.1, horizontal_flip=True))\n",
    "    model.add(Conv2D(32, (3, 3), activation='relu', padding='same', input_shape=(28, 28, 1)))\n",
    "    model.add(MaxPooling2D((2, 2)))\n",
    "    model.add(Conv2D(64, (3, 3), activation='relu', padding='same'))\n",
    "    model.add(MaxPooling2D((2, 2)))\n",
    "    model.add(Flatten())\n",
    "    model.add(Dense(128, activation='relu'))\n",
    "    model.add(Dropout(0.5))\n",
    "    model.add(Dense(num_classes, activation='softmax'))\n",
    "    # Compile the model\n",
    "    model.compile(optimizer=Adam(learning_rate=0.001),\n",
    "                  loss='categorical_crossentropy',\n",
    "                  metrics=['accuracy'])\n",
    "\n",
    "    return model"
   ]
  },
  {
   "cell_type": "code",
   "execution_count": null,
   "id": "60b450b5",
   "metadata": {},
   "outputs": [],
   "source": [
    "# Define hyperparameters to tune\n",
    "param_dist = {\n",
    "    'batch_size': [16, 32,64,128],\n",
    "    'data_augmentation': [True, False],\n",
    "    'data_normalization': [True, False]\n",
    "}"
   ]
  },
  {
   "cell_type": "code",
   "execution_count": null,
   "id": "6e45d232",
   "metadata": {},
   "outputs": [],
   "source": [
    "# Define the KerasClassifier wrapper for use in RandomizedSearchCV\n",
    "model = tf.keras.wrappers.scikit_learn.KerasClassifier(build_fn=create_model, epochs=5, verbose=1)"
   ]
  },
  {
   "cell_type": "code",
   "execution_count": null,
   "id": "61095e4b",
   "metadata": {},
   "outputs": [],
   "source": [
    "# Define the random search object\n",
    "random_search = RandomizedSearchCV(estimator=model, param_distributions=param_dist, cv=2, verbose=2)\n",
    "\n",
    "# Perform the random search to find the best hyperparameters\n",
    "random_search_results = random_search.fit(x_train.reshape(-1, 28, 28, 1), y_train)"
   ]
  },
  {
   "cell_type": "code",
   "execution_count": null,
   "id": "eaad1ead",
   "metadata": {},
   "outputs": [],
   "source": [
    "# Print the best hyperparameters\n",
    "print('Best batch size:', random_search_results.best_params_['batch_size'])\n",
    "print('Best data augmentation:', random_search_results.best_params_['data_augmentation'])\n",
    "print('Best data normalization:', random_search_results.best_params_['data_normalization'])"
   ]
  },
  {
   "cell_type": "markdown",
   "id": "2f9cf2cb",
   "metadata": {},
   "source": [
    "#### Model architecture Hyper parameters"
   ]
  },
  {
   "cell_type": "code",
   "execution_count": null,
   "id": "f3a8ef3b",
   "metadata": {},
   "outputs": [],
   "source": [
    "!pip install keras-tuner"
   ]
  },
  {
   "cell_type": "code",
   "execution_count": null,
   "id": "96343155",
   "metadata": {},
   "outputs": [],
   "source": [
    "import numpy as np\n",
    "import tensorflow as tf\n",
    "from tensorflow import keras\n",
    "from tensorflow.keras import layers\n",
    "from kerastuner.tuners import BayesianOptimization"
   ]
  },
  {
   "cell_type": "code",
   "execution_count": null,
   "id": "dfb6fd21",
   "metadata": {},
   "outputs": [],
   "source": [
    "# Load the Fashion MNIST dataset\n",
    "(x_train, y_train), (x_test, y_test) = keras.datasets.fashion_mnist.load_data()\n",
    "\n",
    "# Preprocess the data\n",
    "x_train = np.expand_dims(x_train.astype(\"float32\") / 255.0, axis=-1)\n",
    "x_test = np.expand_dims(x_test.astype(\"float32\") / 255.0, axis=-1)\n",
    "y_train = keras.utils.to_categorical(y_train, 10)\n",
    "y_test = keras.utils.to_categorical(y_test, 10)\n",
    "\n",
    "# Define the model builder function\n",
    "def build_model(hp):\n",
    "    model = keras.Sequential()\n",
    "    model.add(layers.Conv2D(filters=hp.Int('conv_1_filter', min_value=32, max_value=128, step=32),\n",
    "                            kernel_size=hp.Choice('conv_1_kernel', values=[5, 3]),\n",
    "                            activation=hp.Choice('conv_1_activation', values=['relu', 'tanh']),\n",
    "                            padding = 'same',\n",
    "                            input_shape=(28, 28, 1)))\n",
    "    model.add(layers.MaxPooling2D(pool_size=(2, 2)))\n",
    "    for i in range(hp.Int('num_layers', 2, 4)):\n",
    "        model.add(layers.Conv2D(filters=hp.Int(f'conv_{i}_filter', min_value=32, max_value=128, step=32),\n",
    "                                kernel_size=hp.Choice(f'conv_{i}_kernel', values=[3, 5]),\n",
    "                            padding = 'same',\n",
    "                                activation=hp.Choice(f'conv_{i}_activation', values=['relu', 'tanh'])))\n",
    "    model.add(layers.Flatten())\n",
    "    model.add(layers.Dense(units=hp.Choice('dense_1_units', values = [128,256,512]),\n",
    "                           activation=hp.Choice('dense_1_activation', values=['relu', 'tanh'])))\n",
    "    model.add(layers.Dropout(rate=hp.Float('dropout_1', min_value=0.0, max_value=0.5, step=0.1)))\n",
    "    model.add(layers.Dense(10, activation='softmax'))\n",
    "    \n",
    "    # Compile the model\n",
    "    model.compile(optimizer=keras.optimizers.Adam(hp.Float('learning_rate', 0.0001, 0.01, sampling='log')),\n",
    "                  loss='categorical_crossentropy',\n",
    "                  metrics=['accuracy'])\n",
    "    \n",
    "    return model\n",
    "\n",
    "# Define the Bayesian optimization tuner\n",
    "tuner = BayesianOptimization(\n",
    "    build_model,\n",
    "    objective='val_accuracy',\n",
    "    max_trials=3,\n",
    "    executions_per_trial=2,\n",
    "    directory='my_dir',\n",
    "    project_name='fashion_mnist')\n",
    "\n",
    "# Start the hyperparameter search\n",
    "tuner.search(x_train, y_train, epochs=5, validation_data=(x_test, y_test))\n",
    "\n",
    "# Get the optimal hyperparameters\n",
    "best_hps = tuner.get_best_hyperparameters(num_trials=1)[0]"
   ]
  },
  {
   "cell_type": "code",
   "execution_count": null,
   "id": "f518c906",
   "metadata": {},
   "outputs": [],
   "source": [
    "print(f\"Optimal number of filters for the first convolutional layer:\" ,best_hps.values)"
   ]
  },
  {
   "cell_type": "markdown",
   "id": "a8e60c40",
   "metadata": {},
   "source": [
    "#### Weight initialisation and Tuning"
   ]
  },
  {
   "cell_type": "code",
   "execution_count": null,
   "id": "f8623afa",
   "metadata": {},
   "outputs": [],
   "source": [
    "import tensorflow as tf\n",
    "from tensorflow.keras.datasets import fashion_mnist\n",
    "from tensorflow.keras.models import Sequential\n",
    "from tensorflow.keras.layers import Dense, Dropout, Flatten, Conv2D, MaxPooling2D\n",
    "from tensorflow.keras.utils import to_categorical\n",
    "from scikeras.wrappers import KerasClassifier\n",
    "from sklearn.model_selection import RandomizedSearchCV"
   ]
  },
  {
   "cell_type": "code",
   "execution_count": null,
   "id": "336da317",
   "metadata": {},
   "outputs": [],
   "source": [
    "# Load the Fashion-MNIST dataset\n",
    "(x_train, y_train), (x_test, y_test) = fashion_mnist.load_data()\n",
    "\n",
    "# Normalize the data and convert labels to one-hot encoding\n",
    "x_train = x_train.astype('float32') / 255.\n",
    "x_test = x_test.astype('float32') / 255.\n",
    "y_train = to_categorical(y_train, 10)\n",
    "y_test = to_categorical(y_test, 10)"
   ]
  },
  {
   "cell_type": "code",
   "execution_count": null,
   "id": "29665bd1",
   "metadata": {},
   "outputs": [],
   "source": [
    "# Define the CNN model architecture\n",
    "def create_model(init_mode='uniform'):\n",
    "    model = Sequential()\n",
    "    model.add(Conv2D(32, kernel_size=(3, 3), activation='relu', kernel_initializer=init_mode, input_shape=(28, 28, 1)))\n",
    "    model.add(Conv2D(64, kernel_size=(3, 3), activation='relu', kernel_initializer=init_mode))\n",
    "    model.add(MaxPooling2D(pool_size=(2, 2)))\n",
    "    model.add(Dropout(0.25))\n",
    "    model.add(Flatten())\n",
    "    model.add(Dense(128, activation='relu', kernel_initializer=init_mode))\n",
    "    model.add(Dropout(0.5))\n",
    "    model.add(Dense(10, activation='softmax', kernel_initializer=init_mode))\n",
    "    model.compile(loss='categorical_crossentropy', optimizer='adam', metrics=['accuracy'])\n",
    "    return model"
   ]
  },
  {
   "cell_type": "code",
   "execution_count": null,
   "id": "041ad4a8",
   "metadata": {},
   "outputs": [],
   "source": [
    "# Create a KerasClassifier object for use with RandomizedSearchCV\n",
    "model = KerasClassifier(build_fn=create_model, verbose=0)"
   ]
  },
  {
   "cell_type": "code",
   "execution_count": null,
   "id": "31732bad",
   "metadata": {},
   "outputs": [],
   "source": [
    "# Define the hyperparameter space\n",
    "param_dist = {'init_mode': [ 'glorot_uniform', 'he_uniform']}"
   ]
  },
  {
   "cell_type": "code",
   "execution_count": null,
   "id": "f130a84a",
   "metadata": {},
   "outputs": [],
   "source": [
    "# Define the RandomizedSearchCV object\n",
    "random_search = RandomizedSearchCV(model, param_distributions=param_dist, n_iter=4, cv=3, verbose=2, random_state=42)"
   ]
  },
  {
   "cell_type": "code",
   "execution_count": null,
   "id": "2348161e",
   "metadata": {},
   "outputs": [],
   "source": [
    "# Fit the RandomizedSearchCV object to the data\n",
    "result = random_search.fit(x_train.reshape(-1, 28, 28, 1), y_train, epochs=5, validation_data=(x_test.reshape(-1, 28, 28, 1), y_test))"
   ]
  },
  {
   "cell_type": "code",
   "execution_count": null,
   "id": "de922985",
   "metadata": {},
   "outputs": [],
   "source": [
    "# Identify the best parameters\n",
    "best_weights = result.best_params_\n",
    "best_weights"
   ]
  },
  {
   "cell_type": "markdown",
   "id": "01cf0c09",
   "metadata": {},
   "source": [
    "#### Model optimization hyper parameter tuning"
   ]
  },
  {
   "cell_type": "code",
   "execution_count": null,
   "id": "e329ac4c",
   "metadata": {},
   "outputs": [],
   "source": [
    "import tensorflow as tf\n",
    "from tensorflow import keras\n",
    "from tensorflow.keras import layers\n",
    "from sklearn.model_selection import train_test_split\n",
    "from sklearn.metrics import accuracy_score\n",
    "from tensorflow.keras.datasets import fashion_mnist\n",
    "from tensorflow.keras.utils import to_categorical\n",
    "from tensorflow.keras.models import Sequential\n",
    "from tensorflow.keras.layers import Dense, Dropout, Flatten, Conv2D, MaxPooling2D\n",
    "from tensorflow.keras.optimizers import SGD, Adam, Adagrad\n",
    "from tensorflow.keras.callbacks import EarlyStopping\n",
    "from tensorflow.keras.wrappers.scikit_learn import KerasClassifier\n",
    "from sklearn.model_selection import RandomizedSearchCV\n",
    "import numpy as np"
   ]
  },
  {
   "cell_type": "code",
   "execution_count": null,
   "id": "ea0e94ab",
   "metadata": {},
   "outputs": [],
   "source": [
    "# Load the Fashion MNIST dataset\n",
    "(X_train, y_train), (X_test, y_test) = fashion_mnist.load_data()\n",
    "\n",
    "# Preprocess the data\n",
    "X_train = X_train.astype('float32') / 255.0\n",
    "X_test = X_test.astype('float32') / 255.0\n",
    "y_train = to_categorical(y_train)\n",
    "y_test = to_categorical(y_test)"
   ]
  },
  {
   "cell_type": "code",
   "execution_count": null,
   "id": "4f258b34",
   "metadata": {},
   "outputs": [],
   "source": [
    "# Define the model architecture\n",
    "def create_model(learning_rate=0.01, momentum=0.0, decay_rate=0.0, optimizer='sgd'):\n",
    "    model = Sequential()\n",
    "    model.add(Conv2D(32, (3, 3), padding='same', activation='relu', input_shape=(28, 28, 1)))\n",
    "    model.add(MaxPooling2D((2, 2)))\n",
    "    model.add(Flatten())\n",
    "    model.add(Dense(128, activation='relu'))\n",
    "    model.add(Dense(10, activation='softmax'))\n",
    "    \n",
    "    if optimizer == 'sgd':\n",
    "        opt = SGD(lr=learning_rate, momentum=momentum, decay=decay_rate)\n",
    "    elif optimizer == 'adam':\n",
    "        opt = Adam(lr=learning_rate, beta_1=momentum, decay=decay_rate)\n",
    "    else:\n",
    "        opt = Adagrad(lr=learning_rate, decay=decay_rate)\n",
    "        \n",
    "    model.compile(optimizer=opt, loss='categorical_crossentropy', metrics=['accuracy'])\n",
    "    return model"
   ]
  },
  {
   "cell_type": "code",
   "execution_count": null,
   "id": "f9cb5987",
   "metadata": {},
   "outputs": [],
   "source": [
    "# Wrap the model in a scikit-learn classifier object\n",
    "clf = KerasClassifier(build_fn=create_model)\n",
    "\n",
    "# Define the hyperparameters to search over\n",
    "params = {\n",
    "    'learning_rate': [0.001, 0.01, 0.1],\n",
    "    'momentum': [0.0, 0.5, 0.9],\n",
    "    'decay_rate': [0.0, 0.01, 0.001],\n",
    "    'optimizer': ['sgd', 'adam', 'adagrad']\n",
    "}"
   ]
  },
  {
   "cell_type": "code",
   "execution_count": null,
   "id": "8f2aa566",
   "metadata": {},
   "outputs": [],
   "source": [
    "# Define the search method and run the search\n",
    "search = RandomizedSearchCV(clf, params, cv=3, n_iter=5, n_jobs=-1, verbose=2)\n",
    "search.fit(X_train.reshape(-1, 28, 28, 1), y_train)"
   ]
  },
  {
   "cell_type": "code",
   "execution_count": null,
   "id": "b11de0da",
   "metadata": {},
   "outputs": [],
   "source": [
    "# Print the best parameters and accuracy\n",
    "print(\"Best parameters: \", search.best_params_)\n",
    "print(\"Accuracy: \", search.best_score_)"
   ]
  },
  {
   "cell_type": "markdown",
   "id": "fbd43b57",
   "metadata": {},
   "source": [
    "#### Regularization hyper parameters"
   ]
  },
  {
   "cell_type": "code",
   "execution_count": null,
   "id": "1d9918c2",
   "metadata": {},
   "outputs": [],
   "source": [
    "import tensorflow as tf\n",
    "from tensorflow import keras\n",
    "from tensorflow.keras import layers\n",
    "from sklearn.model_selection import train_test_split\n",
    "from sklearn.metrics import accuracy_score\n",
    "from tensorflow.keras.datasets import fashion_mnist\n",
    "from tensorflow.keras.utils import to_categorical\n",
    "from tensorflow.keras.models import Sequential\n",
    "from tensorflow.keras.layers import Dense, Dropout, Flatten, Conv2D, MaxPooling2D\n",
    "from tensorflow.keras.optimizers import SGD, Adam, Adagrad\n",
    "from kerastuner.tuners import BayesianOptimization\n",
    "import numpy as np\n"
   ]
  },
  {
   "cell_type": "code",
   "execution_count": null,
   "id": "86695c42",
   "metadata": {},
   "outputs": [],
   "source": [
    "(X_train, y_train), (X_test, y_test) = fashion_mnist.load_data()\n",
    "# Preprocess the data\n",
    "X_train = X_train.astype('float32') / 255.0\n",
    "X_test = X_test.astype('float32') / 255.0"
   ]
  },
  {
   "cell_type": "code",
   "execution_count": null,
   "id": "5fac850d",
   "metadata": {},
   "outputs": [],
   "source": [
    "# Define the model builder function for Bayesian optimization\n",
    "def build_model(hp):\n",
    "    model = keras.Sequential()\n",
    "    # Add Convolutional layer\n",
    "    model.add(Conv2D(32,(3,3),padding=\"same\",activation='relu',input_shape=(28, 28, 1)))\n",
    "    # Add MaxPooling layer\n",
    "    model.add(MaxPooling2D(pool_size=(2, 2)))\n",
    "    # Add Flatten layer\n",
    "    model.add(Flatten())\n",
    "    # Add Dense layer with L2 regularization\n",
    "    model.add(Dense(128,activation='relu',kernel_regularizer=tf.keras.regularizers.l2(hp.Choice('l2_regularizer', values=[1e-4, 1e-3, 1e-1]))))\n",
    "    # Add Dropout layer\n",
    "    model.add(Dropout(hp.Float('dropout_rate', 0, 0.5, step=0.1)))\n",
    "    # Add output layer\n",
    "    model.add(layers.Dense(units=10, activation='softmax'))\n",
    "    # Compile the model\n",
    "    model.compile(optimizer='adam',loss='sparse_categorical_crossentrop y',metrics=['accuracy'])\n",
    "    return model"
   ]
  },
  {
   "cell_type": "code",
   "execution_count": null,
   "id": "7ac117d4",
   "metadata": {},
   "outputs": [],
   "source": [
    "# Define the BayesianOptimization tuner\n",
    "tuner = BayesianOptimization(\n",
    "build_model,\n",
    "objective='val_accuracy',\n",
    "max_trials=5,\n",
    "directory='my_dir',\n",
    "project_name='HP_tuning')"
   ]
  },
  {
   "cell_type": "code",
   "execution_count": null,
   "id": "aa801eee",
   "metadata": {},
   "outputs": [],
   "source": [
    "tuner.search(x_train.reshape(-1, 28, 28, 1), y_train, epochs=5, validation_split=0.2)\n",
    "# Get the best hyperparameters\n",
    "best_hps = tuner.get_best_hyperparameters(1)[0]\n",
    "# Print the best hyperparameters\n",
    "print(f\"Best Hyperparameters: {best_hps.values}\")"
   ]
  },
  {
   "cell_type": "code",
   "execution_count": null,
   "id": "4c4a6847",
   "metadata": {},
   "outputs": [],
   "source": [
    "# Build and compile the model with the best hyperparameters\n",
    "model = tuner.hypermodel.build(best_hps)\n",
    "model.compile(optimizer='adam',loss='sparse_categorical_crossentropy',metrics=['accuracy'])\n",
    "# Train the model\n",
    "model.fit(x_train.reshape(-1, 28, 28, 1), y_train)"
   ]
  },
  {
   "cell_type": "code",
   "execution_count": null,
   "id": "56b4b08f",
   "metadata": {},
   "outputs": [],
   "source": []
  },
  {
   "cell_type": "code",
   "execution_count": null,
   "id": "7b4b3b8b",
   "metadata": {},
   "outputs": [],
   "source": []
  },
  {
   "cell_type": "code",
   "execution_count": null,
   "id": "77d4ecff",
   "metadata": {},
   "outputs": [],
   "source": []
  },
  {
   "cell_type": "code",
   "execution_count": null,
   "id": "faf02322",
   "metadata": {},
   "outputs": [],
   "source": []
  },
  {
   "cell_type": "code",
   "execution_count": null,
   "id": "735fe122",
   "metadata": {},
   "outputs": [],
   "source": []
  }
 ],
 "metadata": {
  "kernelspec": {
   "display_name": "Python 3 (ipykernel)",
   "language": "python",
   "name": "python3"
  },
  "language_info": {
   "codemirror_mode": {
    "name": "ipython",
    "version": 3
   },
   "file_extension": ".py",
   "mimetype": "text/x-python",
   "name": "python",
   "nbconvert_exporter": "python",
   "pygments_lexer": "ipython3",
   "version": "3.10.5"
  }
 },
 "nbformat": 4,
 "nbformat_minor": 5
}
