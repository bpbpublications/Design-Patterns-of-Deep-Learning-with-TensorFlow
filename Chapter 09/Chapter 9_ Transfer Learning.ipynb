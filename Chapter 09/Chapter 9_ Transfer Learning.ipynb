{
 "cells": [
  {
   "cell_type": "markdown",
   "id": "a7251f06",
   "metadata": {},
   "source": [
    "#### Chapter 9 - Transfer learning"
   ]
  },
  {
   "cell_type": "code",
   "execution_count": null,
   "id": "9e6d515f",
   "metadata": {},
   "outputs": [],
   "source": [
    "import tensorflow as tf\n",
    "import numpy as np\n",
    "from tensorflow.keras.preprocessing.image import load_img,img_to_array\n",
    "from tensorflow.keras.applications.vgg16 import preprocess_input\n",
    "from tensorflow.keras.applications.vgg16 import decode_predictions"
   ]
  },
  {
   "cell_type": "code",
   "execution_count": null,
   "id": "4ab9e994",
   "metadata": {},
   "outputs": [],
   "source": [
    "# Load the pre-trained model from TensorFlow\n",
    "base_model = tf.keras.applications.VGG16(weights='imagenet', include_top=True, input_shape=(224, 224, 3))"
   ]
  },
  {
   "cell_type": "markdown",
   "id": "4c851608",
   "metadata": {},
   "source": [
    "Download an image of a shirt and then save the path in the variable image_path"
   ]
  },
  {
   "cell_type": "code",
   "execution_count": null,
   "id": "ea055935",
   "metadata": {},
   "outputs": [],
   "source": [
    "# Load the image\n",
    "image_path = \"image2.jpeg\"\n",
    "image = load_img(image_path, target_size=(224, 224))"
   ]
  },
  {
   "cell_type": "code",
   "execution_count": null,
   "id": "8390b0ba",
   "metadata": {},
   "outputs": [],
   "source": [
    "# convert the image pixels to a numpy array\n",
    "image = img_to_array(image)\n",
    "# Preprocess the image\n",
    "image = preprocess_input(image)"
   ]
  },
  {
   "cell_type": "code",
   "execution_count": null,
   "id": "5084e68a",
   "metadata": {},
   "outputs": [],
   "source": [
    "# Make a prediction using the pre-trained model\n",
    "prediction = base_model.predict(np.expand_dims(image, axis=0))\n",
    "# Print the predicted class\n",
    "predicted_class = np.argmax(prediction)\n",
    "print(\"Predicted class:\", predicted_class)"
   ]
  },
  {
   "cell_type": "code",
   "execution_count": null,
   "id": "402cdb02",
   "metadata": {},
   "outputs": [],
   "source": [
    "# Getting the predictions labels\n",
    "decode_predictions(prediction,top=4)"
   ]
  },
  {
   "cell_type": "markdown",
   "id": "8685f239",
   "metadata": {},
   "source": [
    "#### Feature extraction"
   ]
  },
  {
   "cell_type": "code",
   "execution_count": null,
   "id": "f8ddf50e",
   "metadata": {},
   "outputs": [],
   "source": [
    "import tensorflow as tf\n",
    "import tensorflow_hub as hub\n",
    "import numpy as np"
   ]
  },
  {
   "cell_type": "code",
   "execution_count": null,
   "id": "3fcb63c6",
   "metadata": {},
   "outputs": [],
   "source": [
    "# Load the pre-trained model from TensorFlow Hub\n",
    "base_model_url = \"https://tfhub.dev/google/imagenet/resnet_v2_50/feature_vector/4\"\n",
    "base_model = hub.KerasLayer(base_model_url,input_shape=(224, 224, 3),trainable=False)"
   ]
  },
  {
   "cell_type": "code",
   "execution_count": null,
   "id": "c23016f4",
   "metadata": {},
   "outputs": [],
   "source": [
    "model = tf.keras.Sequential([\n",
    "    base_model,\n",
    "    tf.keras.layers.Dense(128, activation='relu'),\n",
    "    tf.keras.layers.Dropout(0.2),\n",
    "    tf.keras.layers.Dense(10, activation='softmax')\n",
    "])"
   ]
  },
  {
   "cell_type": "code",
   "execution_count": null,
   "id": "1bcd5fd8",
   "metadata": {},
   "outputs": [],
   "source": [
    "# Load the Fashion MNIST dataset\n",
    "(x_train, y_train), (x_test, y_test) = tf.keras.datasets.fashion_mnist.load_data()\n",
    "# Preprocess the images\n",
    "x_train = x_train / 255.0\n",
    "x_test = x_test / 255.0"
   ]
  },
  {
   "cell_type": "code",
   "execution_count": null,
   "id": "40ff9210",
   "metadata": {},
   "outputs": [],
   "source": [
    "# Add a third dimension of 1 to the train images\n",
    "x_train_resized = tf.expand_dims(x_train, axis=-1)\n",
    "x_test_resized = tf.expand_dims(x_test, axis=-1)\n",
    "print(x_train_resized.shape,x_test_resized.shape)"
   ]
  },
  {
   "cell_type": "code",
   "execution_count": null,
   "id": "c9c266fc",
   "metadata": {},
   "outputs": [],
   "source": [
    "# Repeat the channel dimension to get the size as 3\n",
    "x_train_multi = tf.repeat(x_train_resized, 3, -1)\n",
    "x_test_multi = tf.repeat(x_test_resized, 3, -1)\n",
    "\n",
    "print(x_train_multi.shape,x_test_multi.shape)"
   ]
  },
  {
   "cell_type": "code",
   "execution_count": null,
   "id": "3d8e124f",
   "metadata": {},
   "outputs": [],
   "source": [
    "# Resize the images to 224,224\n",
    "x_train = tf.image.resize(x_train_multi, (224, 224))\n",
    "x_test = tf.image.resize(x_test_multi, (224, 224))\n",
    "\n",
    "print(x_train.shape,x_test.shape)"
   ]
  },
  {
   "cell_type": "code",
   "execution_count": null,
   "id": "071dcf34",
   "metadata": {},
   "outputs": [],
   "source": [
    "model.summary()"
   ]
  },
  {
   "cell_type": "code",
   "execution_count": null,
   "id": "8812aea4",
   "metadata": {},
   "outputs": [],
   "source": [
    "# Compile the model\n",
    "model.compile(optimizer='adam',loss='sparse_categorical_crossentropy',metrics=['accuracy'])\n",
    "\n",
    "# Train the model\n",
    "model.fit(x_train, y_train, epochs=5, validation_data=(x_test, y_test))\n",
    "\n",
    "# Evaluate the model on the test set\n",
    "test_loss, test_acc = model.evaluate(x_test, y_test)\n",
    "print('Test accuracy:', test_acc)"
   ]
  },
  {
   "cell_type": "markdown",
   "id": "08f3acf4",
   "metadata": {},
   "source": [
    "#### Fine tuning of base model"
   ]
  },
  {
   "cell_type": "code",
   "execution_count": null,
   "id": "1924acac",
   "metadata": {},
   "outputs": [],
   "source": [
    "from tensorflow.keras.datasets import cifar10\n",
    "from tensorflow.keras.applications import MobileNetV2\n",
    "from tensorflow.keras.layers import Dense, Dropout, Flatten\n",
    "from tensorflow.keras.models import Model\n",
    "import tensorflow as tf"
   ]
  },
  {
   "cell_type": "code",
   "execution_count": null,
   "id": "79c25482",
   "metadata": {},
   "outputs": [],
   "source": [
    "# Load the CIFAR-10 dataset\n",
    "(x_train, y_train), (x_test, y_test) = cifar10.load_data()\n",
    "x_train = x_train/255\n",
    "x_test = x_test/255"
   ]
  },
  {
   "cell_type": "code",
   "execution_count": null,
   "id": "21ca8d72",
   "metadata": {},
   "outputs": [],
   "source": [
    "# Define the image size\n",
    "img_size = (128, 128)\n",
    "# Define the batch size\n",
    "batch_size = 32\n",
    "# Define the number of classes in the dataset\n",
    "num_classes = 10\n",
    "\n",
    "# Preprocess the images and create a data pipeline\n",
    "train_ds = tf.data.Dataset.from_tensor_slices((x_train, y_train))\n",
    "train_ds = train_ds.shuffle(buffer_size=len(x_train))\n",
    "train_ds = train_ds.map(lambda x, y: (tf.image.resize(x, img_size), y))\n",
    "train_ds = train_ds.batch(batch_size).prefetch(1)\n",
    "# Preprocess the test set\n",
    "test_ds = tf.data.Dataset.from_tensor_slices((x_test, y_test))\n",
    "test_ds = test_ds.map(lambda x, y: (tf.image.resize(x, img_size), y))\n",
    "test_ds = test_ds.batch(batch_size).prefetch(1)"
   ]
  },
  {
   "cell_type": "code",
   "execution_count": null,
   "id": "644c7c77",
   "metadata": {},
   "outputs": [],
   "source": [
    "# Load the pre-trained MobileNetV2 model\n",
    "base_model = MobileNetV2(weights='imagenet', include_top=False, input_shape=(128, 128, 3))\n",
    "# Freeze the layers in the pre-trained model\n",
    "for layer in base_model.layers:\n",
    "    layer.trainable = False"
   ]
  },
  {
   "cell_type": "code",
   "execution_count": null,
   "id": "1fc50dd0",
   "metadata": {},
   "outputs": [],
   "source": [
    "# Add a custom top to the model\n",
    "x = base_model.output\n",
    "x = Flatten()(x)\n",
    "x = Dense(512, activation='relu')(x)\n",
    "x = Dropout(0.5)(x)\n",
    "predictions = Dense(10, activation='softmax')(x)"
   ]
  },
  {
   "cell_type": "code",
   "execution_count": null,
   "id": "23ca6a69",
   "metadata": {},
   "outputs": [],
   "source": [
    "# Compile the model\n",
    "model = Model(inputs=base_model.input, outputs=predictions)\n",
    "model.summary()"
   ]
  },
  {
   "cell_type": "code",
   "execution_count": null,
   "id": "71ee47d4",
   "metadata": {},
   "outputs": [],
   "source": [
    "model.compile(optimizer='adam', loss='sparse_categorical_crossentropy', metrics=['accuracy'])"
   ]
  },
  {
   "cell_type": "code",
   "execution_count": null,
   "id": "080ffe1b",
   "metadata": {},
   "outputs": [],
   "source": [
    "# Train the model on the CIFAR-10 dataset with a warmup stage\n",
    "history = model.fit(train_ds, batch_size=32, epochs=5, validation_data=test_ds)"
   ]
  },
  {
   "cell_type": "code",
   "execution_count": null,
   "id": "d9453a33",
   "metadata": {},
   "outputs": [],
   "source": [
    "# Fine-tune the last few layers of the pre-trained model\n",
    "for layer in base_model.layers[-10:]:\n",
    "    layer.trainable = True\n",
    "\n",
    "# Compile the model again\n",
    "model.compile(optimizer=tf.keras.optimizers.Adam(learning_rate=0.0001),\n",
    "              loss='sparse_categorical_crossentropy',\n",
    "              metrics=['accuracy'])\n",
    "\n",
    "# Train the model again with fine-tuning\n",
    "history = model.fit(train_ds, batch_size=32, epochs=10, validation_data=test_ds)"
   ]
  },
  {
   "cell_type": "markdown",
   "id": "2e183708",
   "metadata": {},
   "source": [
    "#### Datapipeline for transfer learning"
   ]
  },
  {
   "cell_type": "code",
   "execution_count": null,
   "id": "a8c07d28",
   "metadata": {},
   "outputs": [],
   "source": [
    "from tensorflow.keras.datasets import cifar10\n",
    "from tensorflow.keras.applications import MobileNetV2\n",
    "from tensorflow.keras.layers import Dense, Dropout, Flatten\n",
    "from tensorflow.keras.models import Model\n",
    "import tensorflow as tf\n"
   ]
  },
  {
   "cell_type": "code",
   "execution_count": null,
   "id": "c810ab1f",
   "metadata": {},
   "outputs": [],
   "source": [
    "# Load CIFAR-10 dataset\n",
    "(x_train, y_train), (x_test, y_test) = cifar10.load_data()\n",
    "# Define image size and batch size\n",
    "img_size = (224, 224)\n",
    "batch_size = 32"
   ]
  },
  {
   "cell_type": "code",
   "execution_count": null,
   "id": "6e033311",
   "metadata": {},
   "outputs": [],
   "source": [
    "# Define data augmentation layer for training set\n",
    "train_augmentation = tf.keras.Sequential([\n",
    "  tf.keras.layers.experimental.preprocessing.RandomFlip('horizontal'),\n",
    "  tf.keras.layers.experimental.preprocessing.RandomRotation(0.2),\n",
    "  tf.keras.layers.experimental.preprocessing.RandomZoom(0.1),\n",
    "  tf.keras.layers.experimental.preprocessing.Resizing(*img_size),\n",
    "  tf.keras.layers.experimental.preprocessing.Rescaling(1./255),\n",
    "])\n",
    "\n",
    "# Define data augmentation for test layer\n",
    "test_augmentation = tf.keras.Sequential([\n",
    "  tf.keras.layers.experimental.preprocessing.Resizing(*img_size),\n",
    "  tf.keras.layers.experimental.preprocessing.Rescaling(1./255),\n",
    "])"
   ]
  },
  {
   "cell_type": "code",
   "execution_count": null,
   "id": "f410eb5a",
   "metadata": {},
   "outputs": [],
   "source": [
    "# Preprocess the images and create a data pipeline with resizing and data augmentation\n",
    "train_ds = tf.data.Dataset.from_tensor_slices((x_train, y_train))\n",
    "train_ds = train_ds.shuffle(buffer_size=len(x_train))\n",
    "#train_ds = train_ds.map(lambda x, y: (tf.image.resize(x, img_size), y))\n",
    "train_ds = train_ds.map(lambda x, y: (train_augmentation(x), y))\n",
    "train_ds = train_ds.batch(batch_size).prefetch(1)\n",
    "\n",
    "# Preprocess the test set\n",
    "test_ds = tf.data.Dataset.from_tensor_slices((x_test, y_test))\n",
    "test_ds = test_ds.map(lambda x, y: (test_augmentation(x), y))\n",
    "test_ds = test_ds.batch(batch_size).prefetch(1)"
   ]
  },
  {
   "cell_type": "code",
   "execution_count": null,
   "id": "eab0d20f",
   "metadata": {},
   "outputs": [],
   "source": [
    "# Load the pre-trained MobileNetV2 model\n",
    "base_model = tf.keras.applications.MobileNetV2(weights='imagenet', include_top=False, input_shape=(*img_size, 3))\n"
   ]
  },
  {
   "cell_type": "code",
   "execution_count": null,
   "id": "fc2ed862",
   "metadata": {},
   "outputs": [],
   "source": [
    "# Freeze the layers in the pre-trained model\n",
    "for layer in base_model.layers:\n",
    "    layer.trainable = False"
   ]
  },
  {
   "cell_type": "code",
   "execution_count": null,
   "id": "efe31f0a",
   "metadata": {},
   "outputs": [],
   "source": [
    "# Add a custom top to the model\n",
    "x = base_model.output\n",
    "x = tf.keras.layers.GlobalAveragePooling2D()(x)\n",
    "x = tf.keras.layers.Dense(512, activation='relu')(x)\n",
    "x = tf.keras.layers.Dropout(0.5)(x)\n",
    "predictions = tf.keras.layers.Dense(10, activation='softmax')(x)"
   ]
  },
  {
   "cell_type": "code",
   "execution_count": null,
   "id": "8c2da696",
   "metadata": {},
   "outputs": [],
   "source": [
    "# Combine the base model and the custom top\n",
    "model = tf.keras.models.Model(inputs=base_model.input, outputs=predictions)"
   ]
  },
  {
   "cell_type": "code",
   "execution_count": null,
   "id": "15d9f237",
   "metadata": {},
   "outputs": [],
   "source": [
    "# Compile the model with a lower learning rate for fine-tuning\n",
    "model.compile(optimizer=tf.keras.optimizers.Adam(1e-5),\n",
    "              loss='sparse_categorical_crossentropy',\n",
    "              metrics=['accuracy'])\n"
   ]
  },
  {
   "cell_type": "code",
   "execution_count": null,
   "id": "a86183cc",
   "metadata": {},
   "outputs": [],
   "source": [
    "# Train the model on the CIFAR-10 dataset with a warmup stage\n",
    "history = model.fit(train_ds, batch_size=batch_size, epochs=5, validation_data=test_ds)"
   ]
  },
  {
   "cell_type": "code",
   "execution_count": null,
   "id": "cddfe2b7",
   "metadata": {},
   "outputs": [],
   "source": [
    "# Unfreeze the last few layers in the pre-trained model for fine-tuning\n",
    "for layer in base_model.layers[-10:]:\n",
    "    layer.trainable = True\n",
    "\n",
    "# Compile the model with a lower learning rate for fine-tuning\n",
    "model.compile(optimizer=tf.keras.optimizers.Adam(1e-5),\n",
    "              loss='sparse_categorical_crossentropy',\n",
    "              metrics=['accuracy'])"
   ]
  },
  {
   "cell_type": "code",
   "execution_count": null,
   "id": "8ba96bd8",
   "metadata": {},
   "outputs": [],
   "source": [
    "# Train the model on the CIFAR-10 dataset with a warmup stage\n",
    "history = model.fit(train_ds, batch_size=batch_size, epochs=10, validation_data=test_ds)"
   ]
  },
  {
   "cell_type": "markdown",
   "id": "b7a9c6b5",
   "metadata": {},
   "source": [
    "#### Transfer learning for NLP tasks"
   ]
  },
  {
   "cell_type": "code",
   "execution_count": null,
   "id": "85cdfb0b",
   "metadata": {},
   "outputs": [],
   "source": [
    "import os\n",
    "import numpy as np\n",
    "import tensorflow as tf\n",
    "import tensorflow_hub as hub\n",
    "import tensorflow_datasets as tfds"
   ]
  },
  {
   "cell_type": "code",
   "execution_count": null,
   "id": "1e796ce8",
   "metadata": {},
   "outputs": [],
   "source": [
    "train_data, validation_data, test_data = tfds.load(name=\"imdb_reviews\", split=('train[:70%]', 'train[70%:]', 'test'),as_supervised=True)\n"
   ]
  },
  {
   "cell_type": "code",
   "execution_count": null,
   "id": "f4b02e7a",
   "metadata": {},
   "outputs": [],
   "source": [
    "embedding = \"https://tfhub.dev/google/nnlm-en-dim128/2\"\n",
    "embedding_layer = hub.KerasLayer(embedding, input_shape=[], dtype=tf.string, trainable=True)\n",
    "embedding_layer(train_examples_batch[:3])"
   ]
  },
  {
   "cell_type": "code",
   "execution_count": null,
   "id": "c9e056d1",
   "metadata": {},
   "outputs": [],
   "source": [
    "model = tf.keras.Sequential([\n",
    "    embedding_layer,\n",
    "    tf.keras.layers.Dense(128, activation='relu'),\n",
    "    tf.keras.layers.Dense(1, activation='sigmoid')\n",
    "])"
   ]
  },
  {
   "cell_type": "code",
   "execution_count": null,
   "id": "a3336ef8",
   "metadata": {},
   "outputs": [],
   "source": [
    "model.compile(optimizer='adam',\n",
    "              loss=tf.keras.losses.BinaryCrossentropy(from_logits=True),\n",
    "              metrics=['accuracy'])"
   ]
  },
  {
   "cell_type": "code",
   "execution_count": null,
   "id": "a372f118",
   "metadata": {},
   "outputs": [],
   "source": [
    "history = model.fit(train_data.shuffle(10000).batch(256),\n",
    "                    epochs=5,\n",
    "                    validation_data=validation_data.batch(256),\n",
    "                    verbose=1)"
   ]
  },
  {
   "cell_type": "code",
   "execution_count": null,
   "id": "eabf3aab",
   "metadata": {},
   "outputs": [],
   "source": []
  },
  {
   "cell_type": "code",
   "execution_count": null,
   "id": "cfb0747f",
   "metadata": {},
   "outputs": [],
   "source": []
  },
  {
   "cell_type": "code",
   "execution_count": null,
   "id": "d06f0e77",
   "metadata": {},
   "outputs": [],
   "source": []
  },
  {
   "cell_type": "code",
   "execution_count": null,
   "id": "fee06078",
   "metadata": {},
   "outputs": [],
   "source": []
  }
 ],
 "metadata": {
  "kernelspec": {
   "display_name": "Python 3 (ipykernel)",
   "language": "python",
   "name": "python3"
  },
  "language_info": {
   "codemirror_mode": {
    "name": "ipython",
    "version": 3
   },
   "file_extension": ".py",
   "mimetype": "text/x-python",
   "name": "python",
   "nbconvert_exporter": "python",
   "pygments_lexer": "ipython3",
   "version": "3.10.5"
  }
 },
 "nbformat": 4,
 "nbformat_minor": 5
}
