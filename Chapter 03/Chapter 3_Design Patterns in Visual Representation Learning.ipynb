{
 "cells": [
  {
   "cell_type": "markdown",
   "id": "fd9998c0",
   "metadata": {},
   "source": [
    "#### Chapter 3 - Design Patterns in Visual Representation Learning"
   ]
  },
  {
   "cell_type": "code",
   "execution_count": null,
   "id": "6628f8dd",
   "metadata": {},
   "outputs": [],
   "source": [
    "from tensorflow.keras.models import Sequential\n",
    "from tensorflow.keras.layers import Dense, BatchNormalization, Conv2D, MaxPooling2D,Dropout"
   ]
  },
  {
   "cell_type": "code",
   "execution_count": null,
   "id": "f0c856b6",
   "metadata": {},
   "outputs": [],
   "source": [
    "# Defining the model using Sequential class\n",
    "model = Sequential()\n",
    "# Adding the first convolution layer followed by a Batch normalisation layer\n",
    "model.add(Conv2D(filters=32,kernel_size=(3,3),strides = (1,1),padding='same',activation='relu', input_shape=(28,28,1)))\n",
    "model.add(BatchNormalization())\n",
    "# Adding the secon convolution layer followed by a Batch normalisation layer and Maxpooling layer\n",
    "model.add(Conv2D(filters=64,kernel_size=(3,3),strides = (2,2),padding='same',activation='relu'))\n",
    "model.add(BatchNormalization())\n",
    "model.add(MaxPooling2D(pool_size=2))\n",
    "# Adding the first dense layer followed by a dropout layer for regularization\n",
    "model.add(Dense(128,activation='relu'))\n",
    "model.add(Dropout(0.5))\n",
    "# Adding the second dense layer with the softmax layer \n",
    "model.add(Dense(10,activation='softmax'))\n",
    "# Printing the model summary\n",
    "model.summary()"
   ]
  },
  {
   "cell_type": "markdown",
   "id": "d42167ff",
   "metadata": {},
   "source": [
    "#### Visual Representation Learning"
   ]
  },
  {
   "cell_type": "code",
   "execution_count": null,
   "id": "dcb3545f",
   "metadata": {},
   "outputs": [],
   "source": [
    "import tensorflow as tf\n",
    "from tensorflow.keras import layers, models\n",
    "\n",
    "# Load the MNIST dataset\n",
    "mnist = tf.keras.datasets.mnist\n",
    "(train_images, train_labels), (test_images, test_labels) = mnist.load_data()\n",
    "\n",
    "# Normalize and reshape the images\n",
    "train_images, test_images = train_images / 255.0, test_images / 255.0\n",
    "train_images = train_images.reshape(-1, 28, 28, 1)\n",
    "test_images = test_images.reshape(-1, 28, 28, 1)\n",
    "\n",
    "# Build the CNN network\n",
    "model = models.Sequential([\n",
    "    layers.Conv2D(32, (3, 3), activation='relu', input_shape=(28, 28, 1)),\n",
    "    layers.MaxPooling2D((2, 2)),\n",
    "    layers.Conv2D(64, (3, 3), activation='relu'),\n",
    "    layers.MaxPooling2D((2, 2)),\n",
    "    layers.Conv2D(64, (3, 3), activation='relu'),\n",
    "    layers.Flatten(),\n",
    "    layers.Dense(64, activation='relu'),\n",
    "   layers.Dense(10, activation='softmax')\n",
    "])\n",
    "\n",
    "# Compile the model\n",
    "model.compile(optimizer='adam',\n",
    "             loss='sparse_categorical_crossentropy',\n",
    "             metrics=['accuracy'])\n",
    "\n",
    "# Train the model\n",
    "model.fit(train_images, train_labels, epochs=5, batch_size=32, validation_data=(test_images, test_labels))\n",
    "\n",
    "# Extract representation learning vectors\n",
    "representation_model = models.Model(inputs=model.input, outputs=model.layers[-2].output)\n",
    "representation_vectors = representation_model.predict(test_images)\n",
    "print(\"Representation learning vectors shape:\", representation_vectors.shape)\n"
   ]
  },
  {
   "cell_type": "code",
   "execution_count": null,
   "id": "01cb561d",
   "metadata": {},
   "outputs": [],
   "source": []
  },
  {
   "cell_type": "code",
   "execution_count": null,
   "id": "ddcc391f",
   "metadata": {},
   "outputs": [],
   "source": []
  },
  {
   "cell_type": "code",
   "execution_count": null,
   "id": "9d91c3aa",
   "metadata": {},
   "outputs": [],
   "source": []
  },
  {
   "cell_type": "code",
   "execution_count": null,
   "id": "51a7d203",
   "metadata": {},
   "outputs": [],
   "source": []
  }
 ],
 "metadata": {
  "kernelspec": {
   "display_name": "Python 3 (ipykernel)",
   "language": "python",
   "name": "python3"
  },
  "language_info": {
   "codemirror_mode": {
    "name": "ipython",
    "version": 3
   },
   "file_extension": ".py",
   "mimetype": "text/x-python",
   "name": "python",
   "nbconvert_exporter": "python",
   "pygments_lexer": "ipython3",
   "version": "3.10.5"
  }
 },
 "nbformat": 4,
 "nbformat_minor": 5
}
